{
 "cells": [
  {
   "cell_type": "markdown",
   "id": "6169549e-adb0-4fd1-9631-4f38ce2b5966",
   "metadata": {},
   "source": [
    "Q1. What is Lasso Regression, and how does it differ from other regression techniques?"
   ]
  },
  {
   "cell_type": "markdown",
   "id": "72d77236-3753-47b6-8706-c0ec1b0e86ae",
   "metadata": {},
   "source": [
    "it is regression with hyper section of the equation, it is used for reduce the over fitting of the data set. it is different from other regression like it is closer to the zero as compare to the other regression."
   ]
  },
  {
   "cell_type": "markdown",
   "id": "dc495933-9564-46fa-ad1b-641de9a7910e",
   "metadata": {},
   "source": [
    "Q2. What is the main advantage of using Lasso Regression in feature selection?"
   ]
  },
  {
   "cell_type": "markdown",
   "id": "cdb9c372-36b2-4257-a490-949a8c75908a",
   "metadata": {},
   "source": [
    "1.it is the closer to zero.\n",
    "2.it is used to large value of data.\n",
    "3.it is reduce the over fitting the data.\n",
    "4.it is more acurate value then other regression prediction."
   ]
  },
  {
   "cell_type": "markdown",
   "id": "e34f9bea-c215-483f-bf6c-7c0d813bd1db",
   "metadata": {},
   "source": [
    "Q3.How do you interpret the coefficients of a Lasso Regression model?"
   ]
  },
  {
   "cell_type": "markdown",
   "id": "0b2f6619-d7fb-47ad-a631-02d113958557",
   "metadata": {},
   "source": [
    "Interpret with the help of formula and their support values and graph."
   ]
  },
  {
   "cell_type": "markdown",
   "id": "9092972d-f56f-4704-97e6-9b0c8740011e",
   "metadata": {},
   "source": [
    "Q4. What are the tuning parameters that can be adjusted in Lasso Regression, and how do they affect the\n",
    "model's performance?"
   ]
  },
  {
   "cell_type": "markdown",
   "id": "e06d7ca8-1f80-4a2c-b12a-25b8e638f287",
   "metadata": {},
   "source": [
    "it is the point where we get our minimul point,and help to predict the agent point of data,it is give the accuracy of the data, give the good pridiction regression."
   ]
  },
  {
   "cell_type": "markdown",
   "id": "d31d9a9f-b440-4ee2-88bc-50d599a11dd4",
   "metadata": {},
   "source": [
    "Q5. Can Lasso Regression be used for non-linear regression problems? If yes, how?"
   ]
  },
  {
   "cell_type": "markdown",
   "id": "93777c34-9efc-443e-b670-b03ccdb8e9cf",
   "metadata": {},
   "source": [
    "LASSO is a linear method, but you could make nonlinear terms through transformation (e.g. Lag1^2) and see if they stay in the model."
   ]
  },
  {
   "cell_type": "markdown",
   "id": "0f77f4b2-8dc3-43e8-8bb0-aaa6f66d249d",
   "metadata": {},
   "source": [
    "Q6. What is the difference between Ridge Regression and Lasso Regression?"
   ]
  },
  {
   "cell_type": "markdown",
   "id": "37dbfb00-dc6c-4cf0-8f77-a20ed1082a8c",
   "metadata": {},
   "source": [
    "Ridge regression:-\n",
    "1.it is used for small data.\n",
    "2.it is not good prediction as compare to lasso.\n",
    "3.it is used for linear data.\n",
    "Lasso regression:-\n",
    "1.it is used for large data.\n",
    "2.it is good prediction as compare to others.\n",
    "3.it is both linear and nonliar data set."
   ]
  },
  {
   "cell_type": "markdown",
   "id": "7293e0b5-3919-4086-8920-a4bf2e2b61af",
   "metadata": {},
   "source": [
    "Q7. Can Lasso Regression handle multicollinearity in the input features? If yes, how?"
   ]
  },
  {
   "cell_type": "markdown",
   "id": "7c001f25-cb30-4db6-85f6-7f20a8881210",
   "metadata": {},
   "source": [
    "Multicollinearity is a phenomenon in which two or more predictors in a multiple regression are highly correlated (R-squared more than 0.7), this can inflate our regression coefficients,To reduce multicollinearity we can use regularization that means to keep all the features but reducing the magnitude of the coefficients of the model. This is a good solution when each predictor contributes to predict the dependent variable."
   ]
  },
  {
   "cell_type": "markdown",
   "id": "a5c26f69-dbc4-42de-9c2e-06f2d9ec85c9",
   "metadata": {},
   "source": [
    "Q8. How do you choose the optimal value of the regularization parameter (lambda) in Lasso Regression?"
   ]
  },
  {
   "cell_type": "markdown",
   "id": "1e53b3a9-763a-4f04-9a81-c63d930a41a4",
   "metadata": {},
   "source": [
    "we choose the optimal value based on the graph,of the data and pridiction it, The first step to build a lasso model is to find the optimal lambda value using the code below. For lasso regression, the alpha value is 1. The output is the best cross-validated lambda, which comes out to be 0.001."
   ]
  },
  {
   "cell_type": "code",
   "execution_count": null,
   "id": "5cf74b72-065a-4599-a0ba-193a19f7823b",
   "metadata": {},
   "outputs": [],
   "source": []
  }
 ],
 "metadata": {
  "kernelspec": {
   "display_name": "Python 3 (ipykernel)",
   "language": "python",
   "name": "python3"
  },
  "language_info": {
   "codemirror_mode": {
    "name": "ipython",
    "version": 3
   },
   "file_extension": ".py",
   "mimetype": "text/x-python",
   "name": "python",
   "nbconvert_exporter": "python",
   "pygments_lexer": "ipython3",
   "version": "3.10.8"
  }
 },
 "nbformat": 4,
 "nbformat_minor": 5
}
